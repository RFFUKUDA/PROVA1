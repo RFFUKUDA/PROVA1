{
 "cells": [
  {
   "cell_type": "code",
   "execution_count": 21,
   "id": "c75277e5-5561-480e-aeff-0c3a00f9f318",
   "metadata": {},
   "outputs": [
    {
     "name": "stdin",
     "output_type": "stream",
     "text": [
      "Digite o primeiro valor:  30\n",
      "Digite o segundo valor:  40\n",
      "Digite o terceiro valor:  20\n"
     ]
    },
    {
     "name": "stdout",
     "output_type": "stream",
     "text": [
      "A média aritimética é: 35.0\n"
     ]
    }
   ],
   "source": [
    "#Prova1 - Entre com 3 Valores e calcule a média aritimética dos dois maiores valores\n",
    "valor1 = int(input(\"Digite o primeiro valor: \"))\n",
    "valor2 = int(input(\"Digite o segundo valor: \"))\n",
    "valor3 = int(input(\"Digite o terceiro valor: \"))\n",
    "Media1 = ((valor1+valor2)/2)\n",
    "Media2 = ((valor1+valor3)/2)\n",
    "Media3 = ((valor2+valor3)/2)\n",
    "if valor1 <0 or valor2<0 or valor3<0:\n",
    "    print (\"Os Valores informados devem ser positivos\")\n",
    "elif Media1 > Media2 and Media1 > Media3:\n",
    "    print(f\"A média aritimética é: {Media1}\")\n",
    "elif Media2 > Media1 and Media2 > Media3:\n",
    "    print(f\"A média aritimética é: {Media2}\")\n",
    "elif Media3 > Media1 and Media3 > Media2:\n",
    "    print(f\"A média aritimética é: {Media3}\")"
   ]
  },
  {
   "cell_type": "code",
   "execution_count": null,
   "id": "820801fc-f3f9-4a04-abae-e44de8f81568",
   "metadata": {},
   "outputs": [],
   "source": []
  }
 ],
 "metadata": {
  "kernelspec": {
   "display_name": "Python [conda env:base] *",
   "language": "python",
   "name": "conda-base-py"
  },
  "language_info": {
   "codemirror_mode": {
    "name": "ipython",
    "version": 3
   },
   "file_extension": ".py",
   "mimetype": "text/x-python",
   "name": "python",
   "nbconvert_exporter": "python",
   "pygments_lexer": "ipython3",
   "version": "3.12.7"
  }
 },
 "nbformat": 4,
 "nbformat_minor": 5
}
